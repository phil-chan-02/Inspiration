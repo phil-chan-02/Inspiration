{
 "cells": [
  {
   "cell_type": "code",
   "execution_count": 1,
   "metadata": {},
   "outputs": [],
   "source": [
    "import os\n",
    "import json"
   ]
  },
  {
   "cell_type": "code",
   "execution_count": 9,
   "metadata": {},
   "outputs": [
    {
     "name": "stdout",
     "output_type": "stream",
     "text": [
      "http://aigc-t2p.bj.bcebos.com/artist-long/102314679_0_final.png?authorization=bce-auth-v1%2F174bf5e9a7a84f55a8e85b1cc5d62b1d%2F2023-08-10T01%3A50%3A38Z%2F3600%2Fhost%2F1670e795e69dd56c774269ae02db991f76bf35cf780dd5305f794858d71b11ce\n"
     ]
    }
   ],
   "source": [
    "dict = {\"data\":{\"task_status\":\"SUCCESS\",\"task_progress\":1,\"sub_task_result_list\":[{\"final_image_list\":[{\"width\":1024,\"img_url\":\"http://aigc-t2p.bj.bcebos.com/artist-long/102314679_0_final.png?authorization=bce-auth-v1%2F174bf5e9a7a84f55a8e85b1cc5d62b1d%2F2023-08-10T01%3A50%3A38Z%2F3600%2Fhost%2F1670e795e69dd56c774269ae02db991f76bf35cf780dd5305f794858d71b11ce\",\"img_approve_conclusion\":\"pass\",\"height\":1024}],\"sub_task_error_code\":0,\"sub_task_status\":\"SUCCESS\",\"sub_task_progress\":1}],\"task_id\":1689454146032474559},\"log_id\":1689454236955120285}\n",
    "print(dict[\"data\"]['sub_task_result_list'][0]['final_image_list'][0]['img_url'])"
   ]
  }
 ],
 "metadata": {
  "kernelspec": {
   "display_name": "pytorch",
   "language": "python",
   "name": "python3"
  },
  "language_info": {
   "codemirror_mode": {
    "name": "ipython",
    "version": 3
   },
   "file_extension": ".py",
   "mimetype": "text/x-python",
   "name": "python",
   "nbconvert_exporter": "python",
   "pygments_lexer": "ipython3",
   "version": "3.9.17"
  },
  "orig_nbformat": 4
 },
 "nbformat": 4,
 "nbformat_minor": 2
}
